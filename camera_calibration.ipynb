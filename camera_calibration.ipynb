{
 "cells": [
  {
   "cell_type": "markdown",
   "metadata": {},
   "source": [
    "### Create Object Points"
   ]
  },
  {
   "cell_type": "markdown",
   "metadata": {},
   "source": [
    "Write a method that will precreate object points for 9 x 6 chessboard."
   ]
  },
  {
   "cell_type": "code",
   "execution_count": 8,
   "metadata": {},
   "outputs": [],
   "source": [
    "def draw_corners(image, corners, ret, fname, ny=9, nx=6):\n",
    "    '''\n",
    "    Draw corners of image\n",
    "    '''\n",
    "    cv2.drawChessboardCorners(image, (nx,ny), corners, ret)\n",
    "    plt.imshow(image)\n",
    "    plt.show()\n",
    "    # cv2.waitKey(500)\n",
    "    print('Found corners for %s' % fname)\n",
    "\n",
    "def save_image(image, idx):\n",
    "    write_name = 'output_images/corners_found'+str(idx)+'.jpg'\n",
    "    cv2.imwrite(write_name, image)\n",
    "    \n",
    "def get_object_points():\n",
    "    nx, ny = 6, 9\n",
    "    \n",
    "    # Prepare object points, like (0,0,0), (1,0,0), (2,0,0) ....,(6,5,0)\n",
    "    objp = np.zeros((6*9,3), np.float32)\n",
    "    objp[:,:2] = np.mgrid[0:9, 0:6].T.reshape(-1,2)\n",
    "    \n",
    "    # Arrays to store object points and image points from all the images.\n",
    "    objpoints = [] # 3d points in real world space\n",
    "    imgpoints = [] # 2d points in image plane.\n",
    "    \n",
    "    # Make a list of calibration images\n",
    "    images = glob.glob('camera_cal/calibration*.jpg')\n",
    "    \n",
    "    # find corners on all test images provided to calibrate camera\n",
    "    for idx, fname in enumerate(images):\n",
    "        image = cv2.imread(fname)\n",
    "        \n",
    "        # convert all images into gray\n",
    "        gray = cv2.cvtColor(image, cv2.COLOR_BGR2GRAY)\n",
    "        \n",
    "        # find chess board corners \n",
    "        ret, corners = cv2.findChessboardCorners(gray, (9,6), None)\n",
    "        \n",
    "        # save chess board corners\n",
    "        if ret == True:\n",
    "            # save object points and it's corners\n",
    "            objpoints.append(objp)\n",
    "            imgpoints.append(corners)\n",
    "            \n",
    "            draw_corners(image, corners, ret, fname, 9, 6)\n",
    "            save_image(image, idx)\n",
    "        else:\n",
    "            print('Warning: ret = %s for %s' % (ret, fname))\n",
    "    cv2.destroyAllWindows()        \n",
    "            \n",
    "    return objpoints, imgpoints\n",
    "\n",
    "def calibrate_camera():\n",
    "    # Get objpoints, imgpoints\n",
    "    objpoints, imgpoints = get_object_points()\n",
    "    \n",
    "    # Test undistortion on an image\n",
    "    img = cv2.imread('camera_cal/test_image.jpg')\n",
    "    img_size = (img.shape[1], img.shape[0])\n",
    "    \n",
    "    # Do camera calibration given object points and image points\n",
    "    ret, mtx, dist, rvecs, tvecs = cv2.calibrateCamera(objpoints, imgpoints, img_size, None, None)\n",
    "    save_mtx_dist(mtx, dist)\n",
    "    \n",
    "    dst = cv2.undistort(img, mtx, dist, None, mtx)\n",
    "    cv2.imwrite('output_images/test_undist.jpg',dst)\n",
    "\n",
    "    draw_two_images(img, dst)\n",
    "\n",
    "    return mtx, dist\n",
    "\n",
    "def draw_two_images(img, dst):\n",
    "    #dst = cv2.cvtColor(dst, cv2.COLOR_BGR2RGB)\n",
    "    # Visualize undistortion\n",
    "    f, (ax1, ax2) = plt.subplots(1, 2, figsize=(20,10))\n",
    "    ax1.imshow(img)\n",
    "    ax1.set_title('Original Image', fontsize=30)\n",
    "    ax2.imshow(dst)\n",
    "    ax2.set_title('Undistorted Image', fontsize=30)\n",
    "    plt.show()\n",
    "\n",
    "def save_mtx_dist(mtx, dist):\n",
    "    # Save the camera calibration result for later use (we won't worry about rvecs / tvecs)\n",
    "    dist_pickle = {}\n",
    "    dist_pickle[\"mtx\"], dist_pickle[\"dist\"] = mtx, dist\n",
    "    pickle.dump( dist_pickle, open( \"output_images/calibrate_camera.p\", \"wb\" ) )\n",
    "    \n",
    "    print(\"Saved calibrate_camera file\")"
   ]
  },
  {
   "cell_type": "code",
   "execution_count": 9,
   "metadata": {
    "scrolled": true
   },
   "outputs": [
    {
     "name": "stdout",
     "output_type": "stream",
     "text": [
      "Imported all libraries!\n",
      "Calibrating the camera...\n",
      "Found corners for camera_cal/calibration0.jpg\n",
      "Warning: ret = False for camera_cal/calibration1.jpg\n",
      "Found corners for camera_cal/calibration10.jpg\n",
      "Found corners for camera_cal/calibration11.jpg\n",
      "Found corners for camera_cal/calibration12.jpg\n",
      "Found corners for camera_cal/calibration13.jpg\n",
      "Found corners for camera_cal/calibration14.jpg\n",
      "Found corners for camera_cal/calibration15.jpg\n",
      "Found corners for camera_cal/calibration16.jpg\n",
      "Found corners for camera_cal/calibration17.jpg\n",
      "Found corners for camera_cal/calibration18.jpg\n",
      "Found corners for camera_cal/calibration19.jpg\n",
      "Found corners for camera_cal/calibration2.jpg\n",
      "Found corners for camera_cal/calibration3.jpg\n",
      "Warning: ret = False for camera_cal/calibration4.jpg\n",
      "Warning: ret = False for camera_cal/calibration5.jpg\n",
      "Found corners for camera_cal/calibration6.jpg\n",
      "Found corners for camera_cal/calibration7.jpg\n",
      "Found corners for camera_cal/calibration8.jpg\n",
      "Found corners for camera_cal/calibration9.jpg\n",
      "Saved calibrate_camera file\n"
     ]
    },
    {
     "data": {
      "text/plain": [
       "(array([[  1.15400811e+03,   0.00000000e+00,   6.69729509e+02],\n",
       "        [  0.00000000e+00,   1.14807424e+03,   3.85688295e+02],\n",
       "        [  0.00000000e+00,   0.00000000e+00,   1.00000000e+00]]),\n",
       " array([[ -2.41271966e-01,  -5.18033940e-02,  -1.15812812e-03,\n",
       "          -1.27935984e-04,   2.47030758e-02]]))"
      ]
     },
     "execution_count": 9,
     "metadata": {},
     "output_type": "execute_result"
    }
   ],
   "source": [
    "import numpy as np\n",
    "import cv2\n",
    "import glob\n",
    "import matplotlib\n",
    "matplotlib.use('Qt5Agg')\n",
    "import matplotlib.pyplot as plt\n",
    "import pickle\n",
    "print (\"Imported all libraries!\")\n",
    "\n",
    "print(\"Calibrating the camera...\")\n",
    "calibrate_camera()"
   ]
  },
  {
   "cell_type": "code",
   "execution_count": null,
   "metadata": {
    "collapsed": true
   },
   "outputs": [],
   "source": []
  }
 ],
 "metadata": {
  "kernelspec": {
   "display_name": "Python 2",
   "language": "python",
   "name": "python2"
  },
  "language_info": {
   "codemirror_mode": {
    "name": "ipython",
    "version": 2
   },
   "file_extension": ".py",
   "mimetype": "text/x-python",
   "name": "python",
   "nbconvert_exporter": "python",
   "pygments_lexer": "ipython2",
   "version": "2.7.13"
  }
 },
 "nbformat": 4,
 "nbformat_minor": 2
}
